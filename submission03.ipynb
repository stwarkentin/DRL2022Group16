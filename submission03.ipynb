{
 "cells": [
  {
   "cell_type": "code",
   "execution_count": null,
   "id": "b10a1e94",
   "metadata": {},
   "outputs": [],
   "source": []
  },
  {
   "cell_type": "markdown",
   "id": "f92033ec",
   "metadata": {},
   "source": [
    "# Task 01"
   ]
  },
  {
   "cell_type": "code",
   "execution_count": 1,
   "id": "357aca3f",
   "metadata": {},
   "outputs": [],
   "source": [
    "class XPReplay():\n",
    "    \"\"\"\"\"\"\"\"\n",
    "    def __init__(self,size=1e5):\n",
    "        self.max_size = size\n",
    "        self.buffer = list()\n",
    "        \n",
    "    def store(self,xp):\n",
    "        if len(self.buffer) < self.max_size:\n",
    "            self.buffer.append(xp)\n",
    "        else:\n",
    "            self.buffer = self.buffer[1:]\n",
    "            self.buffer.append(xp)"
   ]
  },
  {
   "cell_type": "markdown",
   "id": "f6d15f3a",
   "metadata": {},
   "source": [
    "# Task 02"
   ]
  },
  {
   "cell_type": "code",
   "execution_count": 12,
   "id": "078fdfe0",
   "metadata": {},
   "outputs": [],
   "source": [
    "import gym\n",
    "import tensorflow as tf\n",
    "from tensorflow.keras import Model\n",
    "import numpy as np"
   ]
  },
  {
   "cell_type": "code",
   "execution_count": 3,
   "id": "a065b5e8",
   "metadata": {},
   "outputs": [
    {
     "name": "stdout",
     "output_type": "stream",
     "text": [
      "Observation space: Box([-1.5       -1.5       -5.        -5.        -3.1415927 -5.\n",
      " -0.        -0.       ], [1.5       1.5       5.        5.        3.1415927 5.        1.\n",
      " 1.       ], (8,), float32)\n",
      "\n",
      "Action space: Discrete(4)\n"
     ]
    },
    {
     "name": "stderr",
     "output_type": "stream",
     "text": [
      "/home/student/miniconda3/envs/gym/lib/python3.9/site-packages/gym/utils/passive_env_checker.py:97: UserWarning: \u001b[33mWARN: We recommend you to use a symmetric and normalized Box action space (range=[-1, 1]) https://stable-baselines3.readthedocs.io/en/master/guide/rl_tips.html\u001b[0m\n",
      "  logger.warn(\n"
     ]
    }
   ],
   "source": [
    "env = gym.make(\"LunarLander-v2\").env\n",
    "\n",
    "print(\"Observation space: {}\".format(env.observation_space))\n",
    "# There are 8 states: the coordinates of the lander in x & y, its linear velocities in x & y, its angle, \n",
    "# its angular velocity, and two booleans that represent whether each leg is in contact with the ground or not.\n",
    "\n",
    "print()\n",
    "\n",
    "print(\"Action space: {}\".format(env.action_space))\n",
    "# There are four discrete actions available: do nothing, fire left orientation engine, fire main engine, \n",
    "# fire right orientation engine\n"
   ]
  },
  {
   "cell_type": "code",
   "execution_count": 4,
   "id": "c0a88fb8",
   "metadata": {},
   "outputs": [
    {
     "name": "stdout",
     "output_type": "stream",
     "text": [
      "8\n",
      "4\n"
     ]
    }
   ],
   "source": [
    "print(env.observation_space.low.size)\n",
    "print(env.action_space.n)"
   ]
  },
  {
   "cell_type": "code",
   "execution_count": 5,
   "id": "d91992fb",
   "metadata": {},
   "outputs": [],
   "source": [
    "class ANN(Model):\n",
    "    def __init__(self,env):\n",
    "        super(ANN,self).__init__()\n",
    "        self.hidden_layer1 = tf.keras.layers.Dense(units=(env.observation_space.low.size)**2,\n",
    "                                                  activation=tf.keras.activations.relu \n",
    "                                                  )\n",
    "        self.hidden_layer2 = tf.keras.layers.Dense(units=(env.observation_space.low.size)**2,\n",
    "                                                  activation=tf.keras.activations.relu\n",
    "                                                  )\n",
    "        self.output_layer = tf.keras.layers.Dense(units=env.action_space.n,\n",
    "                                                  activation=tf.keras.activations.linear\n",
    "                                                  )\n",
    "    def call(self,x):\n",
    "        x = self.hidden_layer1(x)\n",
    "        x = self.hidden_layer2(x)\n",
    "        x = self.output_layer(x)\n",
    "        return x"
   ]
  },
  {
   "cell_type": "code",
   "execution_count": 8,
   "id": "8190e8bb",
   "metadata": {},
   "outputs": [
    {
     "name": "stdout",
     "output_type": "stream",
     "text": [
      "tf.Tensor(\n",
      "[[-0.00512962  1.4200025  -0.51958984  0.40364882  0.00595074  0.11769489\n",
      "   0.          0.        ]], shape=(1, 8), dtype=float32)\n"
     ]
    },
    {
     "data": {
      "text/plain": [
       "<tf.Tensor: shape=(1, 4), dtype=float32, numpy=\n",
       "array([[ 0.12855735, -0.12689298, -0.04397256,  0.02603916]],\n",
       "      dtype=float32)>"
      ]
     },
     "execution_count": 8,
     "metadata": {},
     "output_type": "execute_result"
    }
   ],
   "source": [
    "env = gym.make(\"LunarLander-v2\").env\n",
    "ann = ANN(env)\n",
    "input = tf.reshape(env.reset(),shape=(1,-1))\n",
    "print(input)\n",
    "ann.call(input)"
   ]
  },
  {
   "cell_type": "markdown",
   "id": "c7a65e94",
   "metadata": {},
   "source": [
    "# Task 03"
   ]
  },
  {
   "cell_type": "code",
   "execution_count": 15,
   "id": "db42b5e4",
   "metadata": {},
   "outputs": [
    {
     "name": "stdout",
     "output_type": "stream",
     "text": [
      "[array([-0.00627804,  1.4129663 , -0.6359073 ,  0.09091699,  0.00728139,\n",
      "         0.14404237,  0.        ,  0.        ], dtype=float32)           2\n",
      " -2.358887885803301\n",
      " array([-0.01261435,  1.4158394 , -0.6405796 ,  0.12765545,  0.01415315,\n",
      "         0.13744836,  0.        ,  0.        ], dtype=float32)          ]\n"
     ]
    }
   ],
   "source": [
    "# initialize environment\n",
    "env = gym.make(\"LunarLander-v2\").env\n",
    "# initialize ANN\n",
    "ann = ANN(env)\n",
    "# create empty replay buffer\n",
    "replay =  XPReplay()\n",
    "\n",
    "# hyper-parameters\n",
    "# I'm making these up with no reference. They're probably trash\n",
    "n_episodes = 1\n",
    "n_train_step = 1\n",
    "batch_size = 2\n",
    "\n",
    "# play n episodes\n",
    "for i in range(n_episodes):\n",
    "    s = env.reset()\n",
    "    done = False\n",
    "    # until the episode is finished, sample s,a,r,s' and add them to the replay buffer\n",
    "    while done == False:\n",
    "        q = ann.call(tf.reshape(s,shape=(1,-1)))\n",
    "        # implement epsilon greedy here later\n",
    "        a = np.argmax(q)\n",
    "        s_new, r, done, _ = env.step(a)\n",
    "        sars = np.asarray((s,a,r,s_new),dtype=object)\n",
    "        replay.store(sars)\n",
    "        s = s_new\n",
    "    #print(replay.buffer[0])\n",
    "    # train the newtwork\n",
    "    # perform n training steps\n",
    "    for j in range(n_train_step):\n",
    "        # sample a minibatch of s,a,r,s' from replay buffer\n",
    "        samples = random.sample(replay.buffer,batch_size)\n",
    "        \n",
    "\n"
   ]
  },
  {
   "cell_type": "code",
   "execution_count": null,
   "id": "66fa4f63",
   "metadata": {},
   "outputs": [],
   "source": []
  }
 ],
 "metadata": {
  "kernelspec": {
   "display_name": "Python3 (gym)",
   "language": "python",
   "name": "gym"
  },
  "language_info": {
   "codemirror_mode": {
    "name": "ipython",
    "version": 3
   },
   "file_extension": ".py",
   "mimetype": "text/x-python",
   "name": "python",
   "nbconvert_exporter": "python",
   "pygments_lexer": "ipython3",
   "version": "3.9.11"
  }
 },
 "nbformat": 4,
 "nbformat_minor": 5
}
